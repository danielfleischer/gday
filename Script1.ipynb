{
 "cells": [
  {
   "cell_type": "code",
   "execution_count": 150,
   "metadata": {
    "collapsed": true
   },
   "outputs": [],
   "source": [
    "import csv\n",
    "import numpy as np\n",
    "from random import shuffle, sample, choice"
   ]
  },
  {
   "cell_type": "code",
   "execution_count": 106,
   "metadata": {
    "collapsed": true
   },
   "outputs": [],
   "source": [
    "fname = 'me_at_the_zoo.in'"
   ]
  },
  {
   "cell_type": "code",
   "execution_count": 107,
   "metadata": {
    "collapsed": false
   },
   "outputs": [],
   "source": [
    "ans = open(fname).read().splitlines()"
   ]
  },
  {
   "cell_type": "markdown",
   "metadata": {},
   "source": [
    "## Parameters:"
   ]
  },
  {
   "cell_type": "code",
   "execution_count": 108,
   "metadata": {
    "collapsed": false
   },
   "outputs": [],
   "source": [
    "video_num, endpoint_num, request_num, cache_num, cache_size_limit = map(int, ans[0].split())"
   ]
  },
  {
   "cell_type": "code",
   "execution_count": 125,
   "metadata": {
    "collapsed": true
   },
   "outputs": [],
   "source": [
    "video_sizes = list(enumerate(map(int, ans[1].split())))"
   ]
  },
  {
   "cell_type": "markdown",
   "metadata": {},
   "source": [
    "## Endpoints"
   ]
  },
  {
   "cell_type": "code",
   "execution_count": 110,
   "metadata": {
    "collapsed": false
   },
   "outputs": [],
   "source": [
    "rest = ans[2:]\n",
    "endpoints = []\n",
    "point = 0\n",
    "for endpoint in range(endpoint_num):\n",
    "    end_latent, num_connected = map(int,rest[point].split())\n",
    "    caches = []\n",
    "    for l in range(num_connected):\n",
    "        caches.append(map(int,rest[point+l+1].split()))\n",
    "    endpoints.append([end_latent, num_connected, caches])\n",
    "    point += 1 + num_connected"
   ]
  },
  {
   "cell_type": "markdown",
   "metadata": {},
   "source": [
    "## Requests"
   ]
  },
  {
   "cell_type": "code",
   "execution_count": 111,
   "metadata": {
    "collapsed": true
   },
   "outputs": [],
   "source": [
    "rest = rest[point:]\n",
    "\n",
    "requests = []\n",
    "for l in range(request_num):\n",
    "    requests.append(map(int, rest[l].split()))"
   ]
  },
  {
   "cell_type": "code",
   "execution_count": null,
   "metadata": {
    "collapsed": true
   },
   "outputs": [],
   "source": []
  },
  {
   "cell_type": "code",
   "execution_count": 147,
   "metadata": {
    "collapsed": false
   },
   "outputs": [
    {
     "data": {
      "text/plain": [
       "[[1013, 3, [[0, 170], [1, 22], [2, 224]]],\n",
       " [696, 2, [[0, 7], [1, 50]]],\n",
       " [1114, 3, [[1, 202], [4, 175], [5, 2]]],\n",
       " [464, 2, [[1, 24], [8, 25]]],\n",
       " [522, 5, [[3, 216], [5, 155], [6, 139], [7, 208], [8, 145]]],\n",
       " [321, 4, [[0, 26], [2, 70], [8, 159], [9, 92]]],\n",
       " [1288, 2, [[2, 163], [9, 153]]],\n",
       " [226, 1, [[7, 86]]],\n",
       " [316, 5, [[4, 236], [5, 79], [6, 9], [7, 53], [8, 67]]],\n",
       " [365, 5, [[2, 225], [3, 62], [5, 141], [6, 147], [9, 66]]]]"
      ]
     },
     "execution_count": 147,
     "metadata": {},
     "output_type": "execute_result"
    }
   ],
   "source": [
    "endpoints"
   ]
  },
  {
   "cell_type": "code",
   "execution_count": null,
   "metadata": {
    "collapsed": true
   },
   "outputs": [],
   "source": []
  },
  {
   "cell_type": "code",
   "execution_count": null,
   "metadata": {
    "collapsed": true
   },
   "outputs": [],
   "source": []
  },
  {
   "cell_type": "code",
   "execution_count": null,
   "metadata": {
    "collapsed": true
   },
   "outputs": [],
   "source": []
  },
  {
   "cell_type": "code",
   "execution_count": null,
   "metadata": {
    "collapsed": true
   },
   "outputs": [],
   "source": []
  },
  {
   "cell_type": "code",
   "execution_count": 122,
   "metadata": {
    "collapsed": true
   },
   "outputs": [],
   "source": [
    "def fill_server(capacity, videos):\n",
    "    curr = 0\n",
    "    ret = set()\n",
    "    indices = list(enumerate(videos))\n",
    "    shuffle(indices)\n",
    "    for i, size in indices:\n",
    "        if curr + size > capacity:\n",
    "            continue\n",
    "        ret.add(i)\n",
    "        curr += size\n",
    "    return ret"
   ]
  },
  {
   "cell_type": "code",
   "execution_count": 139,
   "metadata": {
    "collapsed": false
   },
   "outputs": [],
   "source": [
    "def initial_guess():\n",
    "    guess = []\n",
    "    for c in range(cache_num):\n",
    "        sh = sample(video_sizes, len(video_sizes))\n",
    "        ans = []\n",
    "        size = cache_size_limit\n",
    "        while len(sh) > 0:\n",
    "            if sh[0][1] < size:\n",
    "                ans.append(sh[0][0])\n",
    "                size -= sh[0][1]\n",
    "            del sh[0]\n",
    "        guess.append([c,ans])\n",
    "    return guess"
   ]
  },
  {
   "cell_type": "code",
   "execution_count": 142,
   "metadata": {
    "collapsed": false
   },
   "outputs": [
    {
     "data": {
      "text/plain": [
       "[[0, [16, 6, 68, 35, 50, 28, 56, 92, 42, 40]],\n",
       " [1, [97, 83, 85, 4, 78, 47, 76]],\n",
       " [2, [83, 21, 76, 35, 91, 85, 47]],\n",
       " [3, [70, 89, 17, 4, 85, 40, 16, 42]],\n",
       " [4, [16, 81, 32, 7, 4, 78, 75, 46, 40, 42]],\n",
       " [5, [62, 12, 65, 4, 16]],\n",
       " [6, [67, 26, 65, 10, 42, 40]],\n",
       " [7, [54, 47, 97, 22, 72]],\n",
       " [8, [79, 34, 16, 5, 81, 71, 42, 40]],\n",
       " [9, [45, 99, 38, 76, 42, 52, 16, 47]]]"
      ]
     },
     "execution_count": 142,
     "metadata": {},
     "output_type": "execute_result"
    }
   ],
   "source": [
    "initial_guess()"
   ]
  },
  {
   "cell_type": "code",
   "execution_count": null,
   "metadata": {
    "collapsed": true
   },
   "outputs": [],
   "source": []
  },
  {
   "cell_type": "code",
   "execution_count": null,
   "metadata": {
    "collapsed": true
   },
   "outputs": [],
   "source": []
  },
  {
   "cell_type": "code",
   "execution_count": null,
   "metadata": {
    "collapsed": true
   },
   "outputs": [],
   "source": []
  },
  {
   "cell_type": "code",
   "execution_count": null,
   "metadata": {
    "collapsed": true
   },
   "outputs": [],
   "source": []
  },
  {
   "cell_type": "code",
   "execution_count": null,
   "metadata": {
    "collapsed": true
   },
   "outputs": [],
   "source": []
  },
  {
   "cell_type": "code",
   "execution_count": null,
   "metadata": {
    "collapsed": true
   },
   "outputs": [],
   "source": []
  },
  {
   "cell_type": "code",
   "execution_count": null,
   "metadata": {
    "collapsed": true
   },
   "outputs": [],
   "source": []
  },
  {
   "cell_type": "code",
   "execution_count": 144,
   "metadata": {
    "collapsed": true
   },
   "outputs": [],
   "source": [
    "mutateRetry = 100\n",
    "cache_size_limit = 35"
   ]
  },
  {
   "cell_type": "code",
   "execution_count": 180,
   "metadata": {
    "collapsed": true
   },
   "outputs": [],
   "source": [
    "def mutate(instance, video_sizes):\n",
    "    cacheToReplace = choice(instance)\n",
    "    videoToReplace = choice(cacheToReplace[1])\n",
    "    for l in range(mutateRetry):\n",
    "        newVid = choice(video_sizes)[1]\n",
    "        if newVid not in cacheToReplace and newVid != videoToReplace:\n",
    "            cacheToReplace[1].remove(videoToReplace)\n",
    "            cacheToReplace[1].append(newVid)\n",
    "            if sum([l[1] for l in video_sizes]) <= cache_size_limit:\n",
    "                return\n",
    "            cacheToReplace[1].remove(newVid)\n",
    "            cacheToReplace[1].append(videoToReplace)"
   ]
  },
  {
   "cell_type": "code",
   "execution_count": null,
   "metadata": {
    "collapsed": true
   },
   "outputs": [],
   "source": []
  },
  {
   "cell_type": "code",
   "execution_count": null,
   "metadata": {
    "collapsed": true
   },
   "outputs": [],
   "source": []
  },
  {
   "cell_type": "code",
   "execution_count": null,
   "metadata": {
    "collapsed": true
   },
   "outputs": [],
   "source": []
  },
  {
   "cell_type": "code",
   "execution_count": null,
   "metadata": {
    "collapsed": true
   },
   "outputs": [],
   "source": []
  },
  {
   "cell_type": "code",
   "execution_count": null,
   "metadata": {
    "collapsed": true
   },
   "outputs": [],
   "source": []
  },
  {
   "cell_type": "markdown",
   "metadata": {},
   "source": [
    "## Output"
   ]
  },
  {
   "cell_type": "code",
   "execution_count": null,
   "metadata": {
    "collapsed": true
   },
   "outputs": [],
   "source": [
    "def write_out(fout='output.in', cache_list):\n",
    "    with open(fout, 'w') as f:\n",
    "        f.write(len(cache_list))\n"
   ]
  }
 ],
 "metadata": {
  "kernelspec": {
   "display_name": "Python 2",
   "language": "python",
   "name": "python2"
  },
  "language_info": {
   "codemirror_mode": {
    "name": "ipython",
    "version": 2
   },
   "file_extension": ".py",
   "mimetype": "text/x-python",
   "name": "python",
   "nbconvert_exporter": "python",
   "pygments_lexer": "ipython2",
   "version": "2.7.13"
  }
 },
 "nbformat": 4,
 "nbformat_minor": 2
}
