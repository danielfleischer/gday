{
 "cells": [
  {
   "cell_type": "code",
   "execution_count": 206,
   "metadata": {
    "collapsed": true
   },
   "outputs": [],
   "source": [
    "import csv\n",
    "import numpy as np\n",
    "from random import shuffle, sample, choice\n",
    "from math import floor"
   ]
  },
  {
   "cell_type": "code",
   "execution_count": 242,
   "metadata": {
    "collapsed": true
   },
   "outputs": [],
   "source": [
    "fname = 'kittens.in'"
   ]
  },
  {
   "cell_type": "code",
   "execution_count": 243,
   "metadata": {
    "collapsed": false
   },
   "outputs": [],
   "source": [
    "ans = open(fname).read().splitlines()"
   ]
  },
  {
   "cell_type": "markdown",
   "metadata": {},
   "source": [
    "## Parameters:"
   ]
  },
  {
   "cell_type": "code",
   "execution_count": 244,
   "metadata": {
    "collapsed": false
   },
   "outputs": [],
   "source": [
    "video_num, endpoint_num, request_num, cache_num, cache_size_limit = map(int, ans[0].split())"
   ]
  },
  {
   "cell_type": "code",
   "execution_count": 245,
   "metadata": {
    "collapsed": true
   },
   "outputs": [],
   "source": [
    "video_sizes = list(enumerate(map(int, ans[1].split())))"
   ]
  },
  {
   "cell_type": "markdown",
   "metadata": {},
   "source": [
    "## Endpoints"
   ]
  },
  {
   "cell_type": "code",
   "execution_count": 246,
   "metadata": {
    "collapsed": false
   },
   "outputs": [],
   "source": [
    "rest = ans[2:]\n",
    "endpoints = []\n",
    "point = 0\n",
    "for endpoint in range(endpoint_num):\n",
    "    end_latent, num_connected = map(int,rest[point].split())\n",
    "    caches = []\n",
    "    for l in range(num_connected):\n",
    "        caches.append(map(int,rest[point+l+1].split()))\n",
    "    endpoints.append([end_latent, num_connected, caches])\n",
    "    point += 1 + num_connected"
   ]
  },
  {
   "cell_type": "markdown",
   "metadata": {},
   "source": [
    "## Requests"
   ]
  },
  {
   "cell_type": "code",
   "execution_count": 247,
   "metadata": {
    "collapsed": true
   },
   "outputs": [],
   "source": [
    "rest = rest[point:]\n",
    "\n",
    "requests = []\n",
    "for l in range(request_num):\n",
    "    requests.append(map(int, rest[l].split()))"
   ]
  },
  {
   "cell_type": "code",
   "execution_count": null,
   "metadata": {
    "collapsed": true
   },
   "outputs": [],
   "source": []
  },
  {
   "cell_type": "code",
   "execution_count": null,
   "metadata": {
    "collapsed": true
   },
   "outputs": [],
   "source": []
  },
  {
   "cell_type": "code",
   "execution_count": null,
   "metadata": {
    "collapsed": true
   },
   "outputs": [],
   "source": []
  },
  {
   "cell_type": "code",
   "execution_count": null,
   "metadata": {
    "collapsed": true
   },
   "outputs": [],
   "source": []
  },
  {
   "cell_type": "code",
   "execution_count": null,
   "metadata": {
    "collapsed": true
   },
   "outputs": [],
   "source": []
  },
  {
   "cell_type": "code",
   "execution_count": 249,
   "metadata": {
    "collapsed": true
   },
   "outputs": [],
   "source": [
    "def fill_server(capacity, videos):\n",
    "    curr = 0\n",
    "    ret = set()\n",
    "    indices = list(enumerate(videos))\n",
    "    shuffle(indices)\n",
    "    for i, size in indices:\n",
    "        if curr + size > capacity:\n",
    "            continue\n",
    "        ret.add(i)\n",
    "        curr += size\n",
    "    return ret"
   ]
  },
  {
   "cell_type": "code",
   "execution_count": 250,
   "metadata": {
    "collapsed": false
   },
   "outputs": [],
   "source": [
    "def initial_guess():\n",
    "    guess = []\n",
    "    for c in range(cache_num):\n",
    "        sh = sample(video_sizes, len(video_sizes))\n",
    "        ans = []\n",
    "        size = cache_size_limit\n",
    "        while len(sh) > 0:\n",
    "            if sh[0][1] < size:\n",
    "                ans.append(sh[0][0])\n",
    "                size -= sh[0][1]\n",
    "            del sh[0]\n",
    "        guess.append([c,ans])\n",
    "    return guess"
   ]
  },
  {
   "cell_type": "code",
   "execution_count": 251,
   "metadata": {
    "collapsed": true
   },
   "outputs": [],
   "source": [
    "def mutate(instance):\n",
    "    cacheToReplace = choice(instance)\n",
    "    videoToReplace = choice(cacheToReplace[1])\n",
    "    for l in range(mutateRetry):\n",
    "        newVid = choice(video_sizes)[1]\n",
    "        if newVid not in cacheToReplace and newVid != videoToReplace:\n",
    "            cacheToReplace[1].remove(videoToReplace)\n",
    "            cacheToReplace[1].append(newVid)\n",
    "            if sum([l[1] for l in video_sizes]) <= cache_size_limit:\n",
    "                return \n",
    "            cacheToReplace[1].remove(newVid)\n",
    "            cacheToReplace[1].append(videoToReplace)"
   ]
  },
  {
   "cell_type": "code",
   "execution_count": 252,
   "metadata": {
    "collapsed": true
   },
   "outputs": [],
   "source": [
    "def mate(inst1, inst2):\n",
    "    cut = int(min(len(inst1), len(inst2))/2.0)\n",
    "    return inst1[:cut] + inst2[cut:]"
   ]
  },
  {
   "cell_type": "code",
   "execution_count": 254,
   "metadata": {
    "collapsed": false
   },
   "outputs": [],
   "source": [
    "def fit(solution):\n",
    "    saved_time = 0 # in ms\n",
    "    total_watches = 0\n",
    "    \n",
    "    for video_id, endpoint_id, times in requests:\n",
    "        endpoint = endpoints[endpoint_id]\n",
    "        # dc latency\n",
    "        min_latency = endpoint[0]\n",
    "        # iterate caches\n",
    "        for cache, latency in endpoint[2]:\n",
    "            if video_id in solution[cache]:\n",
    "                min_latency = min(min_latency, latency)\n",
    "        \n",
    "        saved_latency = endpoint[0] - min_latency\n",
    "\n",
    "#         print 'adding saved time: %i * %i' % (times, saved_latency)\n",
    "        saved_time += saved_latency * times\n",
    "#         print 'adding times: %i' % (times, )\n",
    "        total_watches += times\n",
    "\n",
    "    # average\n",
    "    return floor(1000.0 * saved_time / total_watches)"
   ]
  },
  {
   "cell_type": "code",
   "execution_count": null,
   "metadata": {
    "collapsed": true
   },
   "outputs": [],
   "source": []
  },
  {
   "cell_type": "code",
   "execution_count": null,
   "metadata": {
    "collapsed": true
   },
   "outputs": [],
   "source": []
  },
  {
   "cell_type": "code",
   "execution_count": null,
   "metadata": {
    "collapsed": true
   },
   "outputs": [],
   "source": []
  },
  {
   "cell_type": "code",
   "execution_count": 255,
   "metadata": {
    "collapsed": true
   },
   "outputs": [],
   "source": [
    "couples = 20\n",
    "pop_size = couples**2\n",
    "generations = 10\n",
    "mutate_prob = 0.1"
   ]
  },
  {
   "cell_type": "code",
   "execution_count": 240,
   "metadata": {
    "collapsed": true
   },
   "outputs": [],
   "source": [
    "def run_evol():\n",
    "    pop = [initial_guess() for a in range(pop_size)]\n",
    "    for gen in range(generations):\n",
    "#         print pop\n",
    "        fited = [[p,fit(p)] for i,p in enumerate(pop)]\n",
    "        fited.sort(key = lambda x: x[1])\n",
    "        best = fited[:20]\n",
    "        print fited[0]\n",
    "        best = [l[0] for l in best]\n",
    "        new_pop = []\n",
    "        for a in best:\n",
    "            for b in best:\n",
    "                new_pop.append(mate(a,b))\n",
    "        for i,a in enumerate(new_pop):\n",
    "            if np.random.rand() < mutate_prob:\n",
    "                mutate(new_pop[i])\n",
    "                \n",
    "        pop = new_pop\n",
    "        \n",
    "#     print init"
   ]
  },
  {
   "cell_type": "code",
   "execution_count": null,
   "metadata": {
    "collapsed": true
   },
   "outputs": [],
   "source": []
  },
  {
   "cell_type": "code",
   "execution_count": 241,
   "metadata": {
    "collapsed": false
   },
   "outputs": [
    {
     "name": "stdout",
     "output_type": "stream",
     "text": [
      "[[[0, [5, 55, 91, 16, 84, 42, 40]], [1, [3, 47, 76, 42]], [2, [60, 50, 52, 16, 42, 40]], [3, [81, 50, 72, 55, 40]], [4, [88, 4, 52, 40]], [5, [47, 69, 5, 16, 42]], [6, [32, 82, 52, 5]], [7, [28, 92, 42, 16, 40]], [8, [74, 99, 4, 64, 40]], [9, [23, 5, 76, 52, 40]]], 72040.0]\n",
      "[[[0, [5, 55, 91, 16, 84, 42, 40]], [1, [3, 47, 76, 42]], [2, [60, 50, 52, 16, 42, 40]], [3, [81, 50, 72, 55, 40]], [4, [88, 4, 52, 40]], [5, [47, 69, 5, 16, 42]], [6, [32, 82, 52, 5]], [7, [28, 92, 42, 16, 40]], [8, [74, 99, 40, 4, 64]], [9, [23, 5, 76, 52, 40]]], 72040.0]\n",
      "[[[0, [84, 40, 42, 55, 5, 16, 91]], [1, [42, 3, 47, 76]], [2, [60, 42, 40, 16, 50, 52]], [3, [55, 72, 40, 50, 81]], [4, [4, 52, 40, 88]], [5, [47, 69, 5, 16, 42]], [6, [82, 52, 32, 5]], [7, [28, 92, 42, 16, 40]], [8, [74, 99, 40, 4, 64]], [9, [23, 5, 76, 52, 40]]], 72040.0]\n",
      "[[[0, [84, 55, 91, 40, 42, 5, 16]], [1, [42, 76, 47, 3]], [2, [52, 60, 50, 42, 16, 40]], [3, [81, 72, 50, 40, 55]], [4, [4, 52, 88, 40]], [5, [47, 69, 5, 16, 42]], [6, [82, 52, 5, 32]], [7, [28, 92, 42, 16, 40]], [8, [74, 99, 40, 4, 64]], [9, [23, 5, 76, 52, 40]]], 72040.0]\n",
      "[[[0, [84, 55, 91, 5, 16, 40, 42]], [1, [76, 42, 47, 3]], [2, [60, 52, 42, 40, 16, 50]], [3, [72, 55, 40, 50, 81]], [4, [52, 88, 40, 4]], [5, [47, 69, 5, 16, 42]], [6, [82, 52, 5, 32]], [7, [28, 92, 42, 16, 40]], [8, [74, 99, 40, 4, 64]], [9, [23, 5, 76, 52, 40]]], 72040.0]\n",
      "[[[0, [55, 91, 5, 42, 16, 40, 84]], [1, [76, 42, 47, 3]], [2, [60, 52, 40, 16, 50, 42]], [3, [81, 72, 55, 50, 40]], [4, [88, 4, 40, 52]], [5, [47, 69, 5, 16, 42]], [6, [82, 52, 5, 32]], [7, [28, 92, 42, 16, 40]], [8, [74, 99, 40, 4, 64]], [9, [23, 5, 76, 52, 40]]], 72040.0]\n",
      "[[[0, [84, 55, 91, 5, 42, 16, 40]], [1, [3, 42, 47, 76]], [2, [52, 42, 16, 50, 40, 60]], [3, [81, 72, 55, 50, 40]], [4, [52, 88, 4, 40]], [5, [5, 42, 47, 16, 69]], [6, [82, 52, 5, 32]], [7, [28, 92, 42, 16, 40]], [8, [74, 99, 40, 4, 64]], [9, [23, 5, 76, 52, 40]]], 72040.0]\n",
      "[[[0, [84, 55, 91, 42, 16, 5, 40]], [1, [76, 42, 3, 47]], [2, [52, 60, 16, 50, 42, 40]], [3, [81, 72, 55, 50, 40]], [4, [88, 4, 40, 52]], [5, [5, 69, 47, 16, 42]], [6, [82, 52, 5, 32]], [7, [92, 16, 42, 40, 28]], [8, [74, 99, 40, 4, 64]], [9, [23, 5, 76, 52, 40]]], 72040.0]\n",
      "[[[0, [84, 91, 42, 55, 16, 5, 40]], [1, [3, 76, 42, 47]], [2, [52, 60, 16, 40, 50, 42]], [3, [81, 55, 50, 40, 72]], [4, [52, 4, 88, 40]], [5, [5, 69, 42, 47, 16]], [6, [82, 5, 32, 52]], [7, [92, 16, 42, 40, 28]], [8, [74, 99, 40, 4, 64]], [9, [23, 5, 76, 52, 40]]], 72040.0]\n",
      "[[[0, [84, 55, 42, 16, 40, 5, 91]], [1, [76, 42, 3, 47]], [2, [52, 40, 42, 16, 50, 60]], [3, [81, 55, 72, 40, 50]], [4, [4, 88, 40, 52]], [5, [5, 69, 42, 47, 16]], [6, [82, 5, 32, 52]], [7, [92, 16, 42, 40, 28]], [8, [74, 99, 40, 4, 64]], [9, [23, 5, 76, 52, 40]]], 72040.0]\n"
     ]
    }
   ],
   "source": [
    "run_evol()"
   ]
  },
  {
   "cell_type": "code",
   "execution_count": null,
   "metadata": {
    "collapsed": true
   },
   "outputs": [],
   "source": []
  },
  {
   "cell_type": "code",
   "execution_count": null,
   "metadata": {
    "collapsed": true
   },
   "outputs": [],
   "source": []
  },
  {
   "cell_type": "code",
   "execution_count": null,
   "metadata": {
    "collapsed": true
   },
   "outputs": [],
   "source": []
  },
  {
   "cell_type": "code",
   "execution_count": null,
   "metadata": {
    "collapsed": true
   },
   "outputs": [],
   "source": []
  },
  {
   "cell_type": "code",
   "execution_count": null,
   "metadata": {
    "collapsed": true
   },
   "outputs": [],
   "source": []
  },
  {
   "cell_type": "markdown",
   "metadata": {},
   "source": [
    "## Output"
   ]
  },
  {
   "cell_type": "code",
   "execution_count": null,
   "metadata": {
    "collapsed": true
   },
   "outputs": [],
   "source": [
    "def write_out(fout='output.in', cache_list):\n",
    "    with open(fout, 'w') as f:\n",
    "        f.write(len(cache_list))\n"
   ]
  }
 ],
 "metadata": {
  "kernelspec": {
   "display_name": "Python 2",
   "language": "python",
   "name": "python2"
  },
  "language_info": {
   "codemirror_mode": {
    "name": "ipython",
    "version": 2
   },
   "file_extension": ".py",
   "mimetype": "text/x-python",
   "name": "python",
   "nbconvert_exporter": "python",
   "pygments_lexer": "ipython2",
   "version": "2.7.13"
  }
 },
 "nbformat": 4,
 "nbformat_minor": 2
}
