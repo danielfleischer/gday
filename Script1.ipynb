{
 "cells": [
  {
   "cell_type": "code",
   "execution_count": 206,
   "metadata": {
    "collapsed": true
   },
   "outputs": [],
   "source": [
    "import csv\n",
    "import numpy as np\n",
    "from random import shuffle, sample, choice\n",
    "from math import floor"
   ]
  },
  {
   "cell_type": "code",
   "execution_count": 258,
   "metadata": {
    "collapsed": true
   },
   "outputs": [],
   "source": [
    "fname = 'me_at_the_zoo.in'"
   ]
  },
  {
   "cell_type": "code",
   "execution_count": 259,
   "metadata": {
    "collapsed": false
   },
   "outputs": [],
   "source": [
    "ans = open(fname).read().splitlines()"
   ]
  },
  {
   "cell_type": "markdown",
   "metadata": {},
   "source": [
    "## Parameters:"
   ]
  },
  {
   "cell_type": "code",
   "execution_count": 260,
   "metadata": {
    "collapsed": false
   },
   "outputs": [],
   "source": [
    "video_num, endpoint_num, request_num, cache_num, cache_size_limit = map(int, ans[0].split())"
   ]
  },
  {
   "cell_type": "code",
   "execution_count": 261,
   "metadata": {
    "collapsed": true
   },
   "outputs": [],
   "source": [
    "video_sizes = list(enumerate(map(int, ans[1].split())))"
   ]
  },
  {
   "cell_type": "markdown",
   "metadata": {},
   "source": [
    "## Endpoints"
   ]
  },
  {
   "cell_type": "code",
   "execution_count": 262,
   "metadata": {
    "collapsed": false
   },
   "outputs": [],
   "source": [
    "rest = ans[2:]\n",
    "endpoints = []\n",
    "point = 0\n",
    "for endpoint in range(endpoint_num):\n",
    "    end_latent, num_connected = map(int,rest[point].split())\n",
    "    caches = []\n",
    "    for l in range(num_connected):\n",
    "        caches.append(map(int,rest[point+l+1].split()))\n",
    "    endpoints.append([end_latent, num_connected, caches])\n",
    "    point += 1 + num_connected"
   ]
  },
  {
   "cell_type": "markdown",
   "metadata": {},
   "source": [
    "## Requests"
   ]
  },
  {
   "cell_type": "code",
   "execution_count": 263,
   "metadata": {
    "collapsed": true
   },
   "outputs": [],
   "source": [
    "rest = rest[point:]\n",
    "\n",
    "requests = []\n",
    "for l in range(request_num):\n",
    "    requests.append(map(int, rest[l].split()))"
   ]
  },
  {
   "cell_type": "code",
   "execution_count": null,
   "metadata": {
    "collapsed": true
   },
   "outputs": [],
   "source": []
  },
  {
   "cell_type": "code",
   "execution_count": null,
   "metadata": {
    "collapsed": true
   },
   "outputs": [],
   "source": []
  },
  {
   "cell_type": "code",
   "execution_count": null,
   "metadata": {
    "collapsed": true
   },
   "outputs": [],
   "source": []
  },
  {
   "cell_type": "code",
   "execution_count": null,
   "metadata": {
    "collapsed": true
   },
   "outputs": [],
   "source": []
  },
  {
   "cell_type": "code",
   "execution_count": null,
   "metadata": {
    "collapsed": true
   },
   "outputs": [],
   "source": []
  },
  {
   "cell_type": "code",
   "execution_count": 264,
   "metadata": {
    "collapsed": true
   },
   "outputs": [],
   "source": [
    "def fill_server(capacity, videos):\n",
    "    curr = 0\n",
    "    ret = set()\n",
    "    indices = list(enumerate(videos))\n",
    "    shuffle(indices)\n",
    "    for i, size in indices:\n",
    "        if curr + size > capacity:\n",
    "            continue\n",
    "        ret.add(i)\n",
    "        curr += size\n",
    "    return ret"
   ]
  },
  {
   "cell_type": "code",
   "execution_count": 265,
   "metadata": {
    "collapsed": false
   },
   "outputs": [],
   "source": [
    "def initial_guess():\n",
    "    guess = []\n",
    "    for c in range(cache_num):\n",
    "        sh = sample(video_sizes, len(video_sizes))\n",
    "        ans = []\n",
    "        size = cache_size_limit\n",
    "        while len(sh) > 0:\n",
    "            if sh[0][1] < size:\n",
    "                ans.append(sh[0][0])\n",
    "                size -= sh[0][1]\n",
    "            del sh[0]\n",
    "        guess.append([c,ans])\n",
    "    return guess"
   ]
  },
  {
   "cell_type": "code",
   "execution_count": 266,
   "metadata": {
    "collapsed": true
   },
   "outputs": [],
   "source": [
    "def mutate(instance):\n",
    "    cacheToReplace = choice(instance)\n",
    "    videoToReplace = choice(cacheToReplace[1])\n",
    "    for l in range(mutateRetry):\n",
    "        newVid = choice(video_sizes)[1]\n",
    "        if newVid not in cacheToReplace and newVid != videoToReplace:\n",
    "            cacheToReplace[1].remove(videoToReplace)\n",
    "            cacheToReplace[1].append(newVid)\n",
    "            if sum([l[1] for l in video_sizes]) <= cache_size_limit:\n",
    "                return \n",
    "            cacheToReplace[1].remove(newVid)\n",
    "            cacheToReplace[1].append(videoToReplace)"
   ]
  },
  {
   "cell_type": "code",
   "execution_count": 267,
   "metadata": {
    "collapsed": true
   },
   "outputs": [],
   "source": [
    "def mate(inst1, inst2):\n",
    "    cut = int(min(len(inst1), len(inst2))/2.0)\n",
    "    return inst1[:cut] + inst2[cut:]"
   ]
  },
  {
   "cell_type": "code",
   "execution_count": 304,
   "metadata": {
    "collapsed": false
   },
   "outputs": [
    {
     "name": "stdout",
     "output_type": "stream",
     "text": [
      "\n"
     ]
    }
   ],
   "source": [
    "def fit(solution):\n",
    "    saved_time = 0 # in ms\n",
    "    total_watches = 0\n",
    "    \n",
    "    for video_id, endpoint_id, times in requests:\n",
    "        endpoint = endpoints[endpoint_id]\n",
    "        # dc latency\n",
    "        min_latency = endpoint[0]\n",
    "        # iterate caches\n",
    "        for cache, latency in endpoint[2]:\n",
    "            if video_id in solution[cache][1]:\n",
    "                min_latency = min(min_latency, latency)\n",
    "        \n",
    "        saved_latency = endpoint[0] - min_latency\n",
    "\n",
    "#         print 'adding saved time: %i * %i' % (times, saved_latency)\n",
    "        saved_time += saved_latency * times\n",
    "#         print 'adding times: %i' % (times, )\n",
    "        total_watches += times\n",
    "\n",
    "    # average\n",
    "    a = floor(1000.0 * saved_time / total_watches)\n",
    "#     print a\n",
    "    return a"
   ]
  },
  {
   "cell_type": "code",
   "execution_count": 274,
   "metadata": {
    "collapsed": true
   },
   "outputs": [],
   "source": [
    "couples = 50\n",
    "pop_size = couples**2\n",
    "generations = 1000\n",
    "mutate_prob = 0.01"
   ]
  },
  {
   "cell_type": "code",
   "execution_count": 306,
   "metadata": {
    "collapsed": true
   },
   "outputs": [],
   "source": [
    "def run_evol():\n",
    "    best_fitted = [0,0]\n",
    "    pop = [initial_guess() for a in range(pop_size)]\n",
    "    for gen in range(generations):\n",
    "#         print pop\n",
    "        fited = [[p,fit(p)] for i,p in enumerate(pop)]\n",
    "        fited.sort(key = lambda x: x[1])\n",
    "        best = fited[:20]\n",
    "#         print fited[-1]\n",
    "\n",
    "        if best[0][1] > best_fitted[1]:\n",
    "            best_fitted = best[0]\n",
    "            print best_fitted\n",
    "        best = [l[0] for l in best]\n",
    "        new_pop = []\n",
    "        for a in best:\n",
    "            for b in best:\n",
    "                new_pop.append(mate(a,b))\n",
    "        for i,a in enumerate(new_pop):\n",
    "            if np.random.rand() < mutate_prob:\n",
    "                mutate(new_pop[i])\n",
    "                \n",
    "        pop = new_pop\n",
    "    \n",
    "        \n",
    "#     print init"
   ]
  },
  {
   "cell_type": "code",
   "execution_count": null,
   "metadata": {
    "collapsed": true
   },
   "outputs": [],
   "source": []
  },
  {
   "cell_type": "code",
   "execution_count": null,
   "metadata": {
    "collapsed": false
   },
   "outputs": [
    {
     "name": "stdout",
     "output_type": "stream",
     "text": [
      "[[[0, [52, 59, 38, 47, 4, 81]], [1, [9, 53, 82, 75, 22, 55, 16]], [2, [56, 5, 73, 20, 95, 76]], [3, [92, 22, 77, 71, 31]], [4, [46, 64, 27, 16, 99, 38, 47, 42, 55, 40]], [5, [33, 75, 48, 76, 81, 5]], [6, [79, 46, 9, 29, 10, 16, 40]], [7, [80, 91, 26, 42, 16]], [8, [98, 23, 32, 35, 76]], [9, [80, 44, 85, 50]]], 14332.0]\n"
     ]
    }
   ],
   "source": [
    "run_evol()"
   ]
  },
  {
   "cell_type": "code",
   "execution_count": null,
   "metadata": {
    "collapsed": true
   },
   "outputs": [],
   "source": []
  },
  {
   "cell_type": "code",
   "execution_count": null,
   "metadata": {
    "collapsed": true
   },
   "outputs": [],
   "source": []
  },
  {
   "cell_type": "code",
   "execution_count": null,
   "metadata": {
    "collapsed": true
   },
   "outputs": [],
   "source": []
  },
  {
   "cell_type": "code",
   "execution_count": null,
   "metadata": {
    "collapsed": true
   },
   "outputs": [],
   "source": []
  },
  {
   "cell_type": "markdown",
   "metadata": {},
   "source": [
    "## Output"
   ]
  },
  {
   "cell_type": "code",
   "execution_count": null,
   "metadata": {
    "collapsed": true
   },
   "outputs": [],
   "source": [
    "def write_out(fout='output.in', cache_list):\n",
    "    with open(fout, 'w') as f:\n",
    "        f.write(len(cache_list))\n"
   ]
  }
 ],
 "metadata": {
  "kernelspec": {
   "display_name": "Python 2",
   "language": "python",
   "name": "python2"
  },
  "language_info": {
   "codemirror_mode": {
    "name": "ipython",
    "version": 2
   },
   "file_extension": ".py",
   "mimetype": "text/x-python",
   "name": "python",
   "nbconvert_exporter": "python",
   "pygments_lexer": "ipython2",
   "version": "2.7.13"
  }
 },
 "nbformat": 4,
 "nbformat_minor": 2
}
